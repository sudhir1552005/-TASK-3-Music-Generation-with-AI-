{
  "nbformat": 4,
  "nbformat_minor": 0,
  "metadata": {
    "colab": {
      "provenance": []
    },
    "kernelspec": {
      "name": "python3",
      "display_name": "Python 3"
    },
    "language_info": {
      "name": "python"
    }
  },
  "cells": [
    {
      "cell_type": "code",
      "source": [
        "# Step 1: Install required packages (Uncomment if running on local machine)\n",
        "# !pip install music21 tensorflow\n",
        "\n",
        "# Step 2: Import Libraries\n",
        "import numpy as np\n",
        "import pickle\n",
        "from music21 import note, chord\n",
        "from tensorflow.keras.models import Sequential\n",
        "from tensorflow.keras.layers import LSTM, Dropout, Dense, Activation\n",
        "from tensorflow.keras.utils import to_categorical\n",
        "\n",
        "# Step 3: Dummy note sequence (simulating extracted notes)\n",
        "notes = ['C4', 'E4', 'G4', 'C5', 'E4', 'G4', 'C5', 'E5', 'G5'] * 10  # Dummy data\n",
        "\n",
        "# Step 4: Encode notes\n",
        "note_names = sorted(set(notes))\n",
        "note_to_int = dict((note, number) for number, note in enumerate(note_names))\n",
        "encoded_notes = [note_to_int[n] for n in notes]\n",
        "\n",
        "# Step 5: Prepare sequences\n",
        "sequence_length = 10\n",
        "network_input = []\n",
        "network_output = []\n",
        "\n",
        "for i in range(len(encoded_notes) - sequence_length):\n",
        "    seq_in = encoded_notes[i:i + sequence_length]\n",
        "    seq_out = encoded_notes[i + sequence_length]\n",
        "    network_input.append(seq_in)\n",
        "    network_output.append(seq_out)\n",
        "\n",
        "n_patterns = len(network_input)\n",
        "n_vocab = len(note_names)\n",
        "\n",
        "network_input = np.reshape(network_input, (n_patterns, sequence_length, 1)) / float(n_vocab)\n",
        "network_output = to_categorical(network_output)\n",
        "\n",
        "# Step 6: Build the LSTM model\n",
        "model = Sequential()\n",
        "model.add(LSTM(256, input_shape=(network_input.shape[1], network_input.shape[2]), return_sequences=True))\n",
        "model.add(Dropout(0.3))\n",
        "model.add(LSTM(256))\n",
        "model.add(Dense(256))\n",
        "model.add(Dropout(0.3))\n",
        "model.add(Dense(n_vocab))\n",
        "model.add(Activation('softmax'))\n",
        "\n",
        "model.compile(loss='categorical_crossentropy', optimizer='adam')\n",
        "\n",
        "# Step 7: Train the model (Only 1 epoch for speed)\n",
        "model.fit(network_input, network_output, epochs=1, batch_size=64)\n",
        "\n",
        "# Step 8: Save model and encoder\n",
        "model.save(\"music_generator_model.h5\")\n",
        "with open(\"note_encoder.pkl\", \"wb\") as f:\n",
        "    pickle.dump(note_to_int, f)\n",
        "\n",
        "print(\"Training complete. Files 'music_generator_model.h5' and 'note_encoder.pkl' saved.\")\n"
      ],
      "metadata": {
        "colab": {
          "base_uri": "https://localhost:8080/"
        },
        "id": "nYZ0ci640Qkd",
        "outputId": "de5dce80-f187-4848-e91f-45393a682f17"
      },
      "execution_count": 4,
      "outputs": [
        {
          "output_type": "stream",
          "name": "stderr",
          "text": [
            "/usr/local/lib/python3.11/dist-packages/keras/src/layers/rnn/rnn.py:200: UserWarning: Do not pass an `input_shape`/`input_dim` argument to a layer. When using Sequential models, prefer using an `Input(shape)` object as the first layer in the model instead.\n",
            "  super().__init__(**kwargs)\n"
          ]
        },
        {
          "output_type": "stream",
          "name": "stdout",
          "text": [
            "\u001b[1m2/2\u001b[0m \u001b[32m━━━━━━━━━━━━━━━━━━━━\u001b[0m\u001b[37m\u001b[0m \u001b[1m5s\u001b[0m 84ms/step - loss: 1.7910\n"
          ]
        },
        {
          "output_type": "stream",
          "name": "stderr",
          "text": [
            "WARNING:absl:You are saving your model as an HDF5 file via `model.save()` or `keras.saving.save_model(model)`. This file format is considered legacy. We recommend using instead the native Keras format, e.g. `model.save('my_model.keras')` or `keras.saving.save_model(model, 'my_model.keras')`. \n"
          ]
        },
        {
          "output_type": "stream",
          "name": "stdout",
          "text": [
            "Training complete. Files 'music_generator_model.h5' and 'note_encoder.pkl' saved.\n"
          ]
        }
      ]
    }
  ]
}